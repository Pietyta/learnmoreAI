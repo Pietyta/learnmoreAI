{
  "nbformat": 4,
  "nbformat_minor": 0,
  "metadata": {
    "colab": {
      "name": "p4 - percent change ",
      "provenance": [],
      "include_colab_link": true
    },
    "kernelspec": {
      "name": "python3",
      "display_name": "Python 3"
    }
  },
  "cells": [
    {
      "cell_type": "markdown",
      "metadata": {
        "id": "view-in-github",
        "colab_type": "text"
      },
      "source": [
        "<a href=\"https://colab.research.google.com/github/Pietyta/learnmoreAI/blob/trading/p4_percent_change.ipynb\" target=\"_parent\"><img src=\"https://colab.research.google.com/assets/colab-badge.svg\" alt=\"Open In Colab\"/></a>"
      ]
    },
    {
      "cell_type": "code",
      "metadata": {
        "id": "g_Q2RQ71-juf",
        "colab_type": "code",
        "outputId": "1744d241-ab08-4ac2-d74a-dbe20a4c43bf",
        "colab": {
          "base_uri": "https://localhost:8080/",
          "height": 357
        }
      },
      "source": [
        "!wget http://sentdex.com/GBPUSD.zip"
      ],
      "execution_count": 0,
      "outputs": [
        {
          "output_type": "stream",
          "text": [
            "--2020-01-03 15:17:27--  http://sentdex.com/GBPUSD.zip\n",
            "Resolving sentdex.com (sentdex.com)... 45.33.119.13, 2600:3c00::f03c:91ff:fe18:ec00\n",
            "Connecting to sentdex.com (sentdex.com)|45.33.119.13|:80... connected.\n",
            "HTTP request sent, awaiting response... 301 MOVED PERMANENTLY\n",
            "Location: http://pythonprogramming.net/static/downloads/forex-hft-pattern-recognition/GBPUSD.zip [following]\n",
            "--2020-01-03 15:17:27--  http://pythonprogramming.net/static/downloads/forex-hft-pattern-recognition/GBPUSD.zip\n",
            "Resolving pythonprogramming.net (pythonprogramming.net)... 104.237.143.20, 2600:3c00::f03c:91ff:fe84:176d\n",
            "Connecting to pythonprogramming.net (pythonprogramming.net)|104.237.143.20|:80... connected.\n",
            "HTTP request sent, awaiting response... 301 Moved Permanently\n",
            "Location: https://pythonprogramming.net/static/downloads/forex-hft-pattern-recognition/GBPUSD.zip [following]\n",
            "--2020-01-03 15:17:28--  https://pythonprogramming.net/static/downloads/forex-hft-pattern-recognition/GBPUSD.zip\n",
            "Connecting to pythonprogramming.net (pythonprogramming.net)|104.237.143.20|:443... connected.\n",
            "HTTP request sent, awaiting response... 200 OK\n",
            "Length: 6036887 (5.8M) [application/zip]\n",
            "Saving to: ‘GBPUSD.zip’\n",
            "\n",
            "GBPUSD.zip          100%[===================>]   5.76M  5.63MB/s    in 1.0s    \n",
            "\n",
            "2020-01-03 15:17:29 (5.63 MB/s) - ‘GBPUSD.zip’ saved [6036887/6036887]\n",
            "\n"
          ],
          "name": "stdout"
        }
      ]
    },
    {
      "cell_type": "code",
      "metadata": {
        "id": "gyvCDN-0-35B",
        "colab_type": "code",
        "outputId": "5fdda1b4-e5f0-4cd7-a506-3d4ecb31cfa2",
        "colab": {
          "base_uri": "https://localhost:8080/",
          "height": 34
        }
      },
      "source": [
        "!ls"
      ],
      "execution_count": 0,
      "outputs": [
        {
          "output_type": "stream",
          "text": [
            "GBPUSD.zip  sample_data\n"
          ],
          "name": "stdout"
        }
      ]
    },
    {
      "cell_type": "code",
      "metadata": {
        "id": "02ZmdOEf--AI",
        "colab_type": "code",
        "outputId": "0119f293-733b-47d6-e6a2-7b5126ed92ea",
        "colab": {
          "base_uri": "https://localhost:8080/",
          "height": 68
        }
      },
      "source": [
        "!unzip GBPUSD.zip"
      ],
      "execution_count": 0,
      "outputs": [
        {
          "output_type": "stream",
          "text": [
            "Archive:  GBPUSD.zip\n",
            "  inflating: GBPUSD1m.txt            \n",
            "  inflating: GBPUSD1d.txt            \n"
          ],
          "name": "stdout"
        }
      ]
    },
    {
      "cell_type": "code",
      "metadata": {
        "id": "qke8qBp8A-s8",
        "colab_type": "code",
        "colab": {}
      },
      "source": [
        "\n",
        "import matplotlib\n",
        "import matplotlib.pyplot as plt\n",
        "import matplotlib.ticker as mticker\n",
        "import matplotlib.dates as mdates\n",
        "import numpy as np\n",
        "from numpy import loadtxt\n",
        "from matplotlib import style\n",
        "style.use(\"ggplot\")\n",
        "\n",
        "def percentChange(startPoint,currentPoint):\n",
        "    return ((currentPoint-startPoint)/startPoint)*100.00\n",
        "\n",
        "def graphRawFX():\n",
        "    date,bid,ask = np.loadtxt('GBPUSD1d.txt', unpack=True,\n",
        "                              delimiter=',',\n",
        "                              converters={0:mdates.strpdate2num('%Y%m%d%H%M%S')})\n",
        "\n",
        "    fig=plt.figure(figsize=(10,7))\n",
        "\n",
        "    ax1 = plt.subplot2grid((40,40), (0,0), rowspan=40, colspan=40)\n",
        "    ax1.plot(date,bid)\n",
        "    ax1.plot(date,ask)\n",
        "    ax1.xaxis.set_major_formatter(mdates.DateFormatter('%Y-%m-%d %H:%M:%S'))\n",
        "    #####\n",
        "    plt.grid(True)\n",
        "    for label in ax1.xaxis.get_ticklabels():\n",
        "            label.set_rotation(45)\n",
        "    plt.gca().get_yaxis().get_major_formatter().set_useOffset(False)\n",
        "\n",
        "    #######\n",
        "    ax1_2 = ax1.twinx()\n",
        "    \n",
        "    #ax1_2.plot(date, (ask-bid))\n",
        "    \n",
        "    ax1_2.fill_between(date, 0, (ask-bid), facecolor='g',alpha=.3)\n",
        "    \n",
        "    #ax1_2.set_ylim(0, 3*ask.max())\n",
        "    #######\n",
        "    \n",
        "    plt.subplots_adjust(bottom=.23)\n",
        "    #plt.grid(True)\n",
        "    \n",
        "    plt.show()\n",
        "    \n",
        "\n",
        "\n",
        " "
      ],
      "execution_count": 0,
      "outputs": []
    },
    {
      "cell_type": "code",
      "metadata": {
        "id": "0JSx8r9lD9w4",
        "colab_type": "code",
        "colab": {}
      },
      "source": [
        "graphRawFX()"
      ],
      "execution_count": 0,
      "outputs": []
    }
  ]
}